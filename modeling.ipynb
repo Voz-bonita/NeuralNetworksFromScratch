{
 "cells": [
  {
   "cell_type": "code",
   "execution_count": 33,
   "metadata": {},
   "outputs": [],
   "source": [
    "import numpy as np\n",
    "\n",
    "\n",
    "SAMPLE_SIZE = 10_000\n",
    "np.random.seed(2025)  # Return same sample every time\n",
    "\n",
    "# random_noise = np.random.normal(0, 0.1, SAMPLE_SIZE)\n",
    "\n",
    "x1 = np.random.uniform(0, 1, SAMPLE_SIZE)\n",
    "x2 = np.random.uniform(0, 1, SAMPLE_SIZE)\n",
    "y = x1**2 + np.exp(np.sin(x2))\n",
    "y = y.reshape((SAMPLE_SIZE, -1))"
   ]
  },
  {
   "cell_type": "code",
   "execution_count": 3,
   "metadata": {},
   "outputs": [],
   "source": [
    "FEATURES = 2\n",
    "HIDDEN_LAYERS_SIZES = [2]\n",
    "OUPUTS = 1\n",
    "\n",
    "xh_weights = np.ones(shape=(HIDDEN_LAYERS_SIZES[0], FEATURES)).T\n",
    "xh_biases = np.zeros(shape=(HIDDEN_LAYERS_SIZES[0]))\n",
    "\n",
    "hy_weights = np.ones(shape=(OUPUTS, HIDDEN_LAYERS_SIZES[-1])).T\n",
    "hy_biases = np.zeros(shape=(OUPUTS))"
   ]
  },
  {
   "cell_type": "code",
   "execution_count": null,
   "metadata": {},
   "outputs": [
    {
     "data": {
      "text/plain": [
       "np.float64(0.3818016700215242)"
      ]
     },
     "execution_count": 46,
     "metadata": {},
     "output_type": "execute_result"
    }
   ],
   "source": [
    "def sigmoid(x):\n",
    "    return 1/(1 + np.exp(-x))\n",
    "\n",
    "def feed_forward(x, xh_weights, xh_biases, hy_weights, hy_biases):\n",
    "    h_star = np.matmul(x, xh_weights) + xh_biases\n",
    "    h = sigmoid(h_star)\n",
    "\n",
    "    y_star = np.matmul(h, hy_weights) + hy_biases\n",
    "    y = sigmoid(y_star)\n",
    "\n",
    "    return y\n",
    "\n",
    "X = np.matrix([x1, x2]).T.reshape((SAMPLE_SIZE, FEATURES))\n",
    "y_hat = feed_forward(X, xh_weights, xh_biases, hy_weights, hy_biases)\n",
    "\n",
    "def MSE(y, y_hat):\n",
    "    return np.mean(np.array(y - y_hat)**2)\n",
    "\n",
    "MSE(y, y_hat)"
   ]
  },
  {
   "cell_type": "code",
   "execution_count": 48,
   "metadata": {},
   "outputs": [
    {
     "name": "stdout",
     "output_type": "stream",
     "text": [
      "Mean: 1.964\n",
      "Min: 1.003\n",
      "Max: 3.299\n"
     ]
    }
   ],
   "source": [
    "print(f\"\"\"\n",
    "Mean: {np.mean(y):.3f}\n",
    "Min: {np.min(y):.3f}\n",
    "Max: {np.max(y):.3f}\n",
    "\"\"\".strip())"
   ]
  },
  {
   "cell_type": "code",
   "execution_count": null,
   "metadata": {},
   "outputs": [],
   "source": [
    "def feed_forward(x, xh_weights, xh_biases, hy_weights, hy_biases):\n",
    "    h_star = np.matmul(x, xh_weights) + xh_biases\n",
    "    h = sigmoid(h_star)\n",
    "\n",
    "    y_star = np.matmul(h, hy_weights) + hy_biases\n",
    "    y = y_star\n",
    "\n",
    "    return y\n",
    "\n",
    "y_hat = feed_forward(X, xh_weights, xh_biases, hy_weights, hy_biases)\n",
    "MSE(y, y_hat)"
   ]
  }
 ],
 "metadata": {
  "kernelspec": {
   "display_name": "venv",
   "language": "python",
   "name": "python3"
  },
  "language_info": {
   "codemirror_mode": {
    "name": "ipython",
    "version": 3
   },
   "file_extension": ".py",
   "mimetype": "text/x-python",
   "name": "python",
   "nbconvert_exporter": "python",
   "pygments_lexer": "ipython3",
   "version": "3.11.3"
  }
 },
 "nbformat": 4,
 "nbformat_minor": 2
}
