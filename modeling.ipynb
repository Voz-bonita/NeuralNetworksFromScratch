{
 "cells": [
  {
   "cell_type": "code",
   "execution_count": 1,
   "metadata": {},
   "outputs": [],
   "source": [
    "import numpy as np\n",
    "\n",
    "\n",
    "SAMPLE_SIZE = 10_000\n",
    "np.random.seed(2025)  # Return same sample every time\n",
    "\n",
    "# random_noise = np.random.normal(0, 0.1, SAMPLE_SIZE)\n",
    "\n",
    "x1 = np.random.uniform(0, 1, SAMPLE_SIZE)\n",
    "x2 = np.random.uniform(0, 1, SAMPLE_SIZE)\n",
    "y = x1**2 + np.exp(np.sin(x2))"
   ]
  },
  {
   "cell_type": "code",
   "execution_count": 2,
   "metadata": {},
   "outputs": [],
   "source": [
    "FEATURES = 2\n",
    "HIDDEN_LAYERS_SIZES = [2]\n",
    "OUPUTS = 1\n",
    "\n",
    "xh_weights = np.ones(shape=(HIDDEN_LAYERS_SIZES[0], FEATURES)).T\n",
    "xh_biases = np.zeros(shape=(HIDDEN_LAYERS_SIZES[0]))\n",
    "\n",
    "hy_weights = np.ones(shape=(OUPUTS, HIDDEN_LAYERS_SIZES[-1])).T\n",
    "hy_biases = np.zeros(shape=(OUPUTS))"
   ]
  },
  {
   "cell_type": "code",
   "execution_count": 3,
   "metadata": {},
   "outputs": [
    {
     "data": {
      "text/plain": [
       "matrix([[0.76068303],\n",
       "        [0.84505977],\n",
       "        [0.82556643],\n",
       "        ...,\n",
       "        [0.76045346],\n",
       "        [0.8197518 ],\n",
       "        [0.81297112]], shape=(10000, 1))"
      ]
     },
     "execution_count": 3,
     "metadata": {},
     "output_type": "execute_result"
    }
   ],
   "source": [
    "def sigmoid(x):\n",
    "    return 1/(1 + np.exp(-x))\n",
    "\n",
    "def feed_forward(x, xh_weights, xh_biases, hy_weights, hy_biases):\n",
    "    h_star = np.matmul(x, xh_weights) + xh_biases\n",
    "    h = sigmoid(h_star)\n",
    "\n",
    "    y_star = np.matmul(h, hy_weights) + hy_biases\n",
    "    y = sigmoid(y_star)\n",
    "\n",
    "    return y\n",
    "\n",
    "X = np.matrix([x1, x2]).T.reshape((SAMPLE_SIZE, FEATURES))\n",
    "y_hat = feed_forward(X, xh_weights, xh_biases, hy_weights, hy_biases)\n",
    "y_hat"
   ]
  }
 ],
 "metadata": {
  "kernelspec": {
   "display_name": "venv",
   "language": "python",
   "name": "python3"
  },
  "language_info": {
   "codemirror_mode": {
    "name": "ipython",
    "version": 3
   },
   "file_extension": ".py",
   "mimetype": "text/x-python",
   "name": "python",
   "nbconvert_exporter": "python",
   "pygments_lexer": "ipython3",
   "version": "3.11.3"
  }
 },
 "nbformat": 4,
 "nbformat_minor": 2
}
