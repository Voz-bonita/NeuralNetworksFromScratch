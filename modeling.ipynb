{
 "cells": [
  {
   "cell_type": "code",
   "execution_count": 1,
   "metadata": {},
   "outputs": [],
   "source": [
    "import numpy as np\n",
    "\n",
    "\n",
    "SAMPLE_SIZE = 10_000\n",
    "np.random.seed(2025)  # Return same sample every time\n",
    "\n",
    "random_noise = np.random.normal(0, 1, SAMPLE_SIZE)\n",
    "\n",
    "x1 = np.random.uniform(-5, 5, SAMPLE_SIZE)\n",
    "x2 = np.random.uniform(-5, 5, SAMPLE_SIZE)\n",
    "X = np.matrix([x1, x2]).T.reshape((-1, 2))\n",
    "\n",
    "y = x1*x2 + x1**2 + np.exp(np.sin(x2)) + random_noise\n",
    "y = y.reshape((SAMPLE_SIZE, -1))"
   ]
  },
  {
   "cell_type": "code",
   "execution_count": 2,
   "metadata": {},
   "outputs": [],
   "source": [
    "FEATURES = 2\n",
    "HIDDEN_LAYERS_SIZES = [2]\n",
    "OUPUTS = 1\n",
    "\n",
    "xh_weights = np.ones(shape=(HIDDEN_LAYERS_SIZES[0], FEATURES)).T\n",
    "xh_biases = np.zeros(shape=(HIDDEN_LAYERS_SIZES[0]))\n",
    "\n",
    "hy_weights = np.ones(shape=(OUPUTS, HIDDEN_LAYERS_SIZES[-1])).T\n",
    "hy_biases = np.zeros(shape=(OUPUTS))"
   ]
  },
  {
   "cell_type": "code",
   "execution_count": 3,
   "metadata": {},
   "outputs": [
    {
     "data": {
      "text/plain": [
       "np.float64(203.1757236001885)"
      ]
     },
     "execution_count": 3,
     "metadata": {},
     "output_type": "execute_result"
    }
   ],
   "source": [
    "def sigmoid(x):\n",
    "    return 1/(1 + np.exp(-x))\n",
    "\n",
    "def feed_forward(x, xh_weights, xh_biases, hy_weights, hy_biases):\n",
    "    h_star = np.matmul(x, xh_weights) + xh_biases\n",
    "    h = sigmoid(h_star)\n",
    "\n",
    "    y_star = np.matmul(h, hy_weights) + hy_biases\n",
    "    y = sigmoid(y_star)\n",
    "\n",
    "    return y\n",
    "\n",
    "X = np.array([x1, x2]).T.reshape((SAMPLE_SIZE, FEATURES))\n",
    "y_hat = feed_forward(X, xh_weights, xh_biases, hy_weights, hy_biases)\n",
    "\n",
    "def MSE(y, y_hat):\n",
    "    return np.mean(np.array(y - y_hat)**2)\n",
    "\n",
    "MSE(y, y_hat)"
   ]
  },
  {
   "cell_type": "code",
   "execution_count": 4,
   "metadata": {},
   "outputs": [
    {
     "name": "stdout",
     "output_type": "stream",
     "text": [
      "Mean: 9.532\n",
      "Min: -7.282\n",
      "Max: 53.252\n"
     ]
    }
   ],
   "source": [
    "print(f\"\"\"\n",
    "Mean: {np.mean(y):.3f}\n",
    "Min: {np.min(y):.3f}\n",
    "Max: {np.max(y):.3f}\n",
    "\"\"\".strip())"
   ]
  },
  {
   "cell_type": "code",
   "execution_count": 5,
   "metadata": {},
   "outputs": [
    {
     "data": {
      "text/plain": [
       "np.float64(198.65838851753207)"
      ]
     },
     "execution_count": 5,
     "metadata": {},
     "output_type": "execute_result"
    }
   ],
   "source": [
    "def feed_forward(x, xh_weights, xh_biases, hy_weights, hy_biases):\n",
    "    h_star = np.matmul(x, xh_weights) + xh_biases\n",
    "    h = sigmoid(h_star)\n",
    "\n",
    "    y_star = np.matmul(h, hy_weights) + hy_biases\n",
    "    y = y_star\n",
    "\n",
    "    return y\n",
    "\n",
    "y_hat = feed_forward(X, xh_weights, xh_biases, hy_weights, hy_biases)\n",
    "MSE(y, y_hat)"
   ]
  },
  {
   "cell_type": "code",
   "execution_count": 7,
   "metadata": {},
   "outputs": [],
   "source": [
    "def backpropagation(X, y, xh_weights, xh_biases, hy_weights, hy_biases, lr):\n",
    "    # Inference\n",
    "    h_star = np.array(np.matmul(X, xh_weights) + xh_biases)\n",
    "    h = sigmoid(h_star)\n",
    "\n",
    "    y_star = np.array(np.matmul(h, hy_weights) + hy_biases)\n",
    "    y_hat = y_star\n",
    "\n",
    "    # Derivatives\n",
    "    dL_yhat = -2 / SAMPLE_SIZE * (y - y_hat)\n",
    "    dyhat_ystar = 1\n",
    "    dystar_h = hy_weights\n",
    "    dystar_w = h\n",
    "    dystar_b = 1\n",
    "    dh_hstar = h * (1 - h)\n",
    "    dhstar_w = X\n",
    "    dhstar_b = 1\n",
    "\n",
    "    dL_yb = dL_yhat * dyhat_ystar * dystar_b\n",
    "    dL_yw = dL_yhat * dyhat_ystar * dystar_w\n",
    "    dL_xb = dL_yhat * dyhat_ystar * np.multiply(dystar_h.T, dh_hstar) * dhstar_b\n",
    "    dL_xw = (dL_yhat * dyhat_ystar * np.multiply(dystar_h.T, dh_hstar)).T @ dhstar_w\n",
    "\n",
    "\n",
    "    # Update weights and biases\n",
    "    hy_biases -= lr * np.sum(dL_yb, axis=0)\n",
    "    hy_weights -= lr * np.sum(dL_yw, axis=0).reshape(-1, 1)\n",
    "\n",
    "    xh_biases -= lr * np.sum(dL_xb, axis=0)\n",
    "    xh_weights -= lr * dL_xw.T\n",
    "    return MSE(y, y_hat)"
   ]
  },
  {
   "cell_type": "code",
   "execution_count": 8,
   "metadata": {},
   "outputs": [],
   "source": [
    "EPOCHS = 1000\n",
    "losses = []\n",
    "for i in range(EPOCHS):\n",
    "    ith_loss = backpropagation(X, y, xh_weights, xh_biases, hy_weights, hy_biases, 0.01)\n",
    "    losses.append(ith_loss)"
   ]
  },
  {
   "cell_type": "code",
   "execution_count": 9,
   "metadata": {},
   "outputs": [],
   "source": [
    "import matplotlib.pyplot as plt\n",
    "\n",
    "fig, ax = plt.subplots(figsize=(12, 8))\n",
    "\n",
    "ax.plot(list(range(EPOCHS)), losses)\n",
    "ax.tick_params(axis='x', colors='white')\n",
    "ax.tick_params(axis='y', colors='white')\n",
    "ax.spines['left'].set_color('white')\n",
    "ax.spines['bottom'].set_color('white')\n",
    "ax.xaxis.label.set_color('white')\n",
    "ax.yaxis.label.set_color('white')\n",
    "ax.set(xlabel=\"Epoch\", ylabel=\"MSE\")\n",
    "\n",
    "plt.savefig(f\"assets/images/training({HIDDEN_LAYERS_SIZES[0]}).png\", transparent=True)\n",
    "plt.close()"
   ]
  },
  {
   "cell_type": "code",
   "execution_count": 10,
   "metadata": {},
   "outputs": [],
   "source": [
    "FEATURES = 2\n",
    "HIDDEN_LAYERS_SIZES = [2, 4, 8, 16]\n",
    "OUPUTS = 1\n",
    "plot_data = {\"epoch\": list(range(EPOCHS))}\n",
    "\n",
    "for size in HIDDEN_LAYERS_SIZES:\n",
    "    xh_weights = np.ones(shape=(size, FEATURES)).T\n",
    "    xh_biases = np.zeros(shape=(size))\n",
    "\n",
    "    hy_weights = np.ones(shape=(OUPUTS, size)).T\n",
    "    hy_biases = np.zeros(shape=(OUPUTS))\n",
    "\n",
    "    plot_data[size] = []\n",
    "    for i in range(EPOCHS):\n",
    "        ith_loss = backpropagation(X, y, xh_weights, xh_biases, hy_weights, hy_biases, 0.01)\n",
    "        plot_data[size].append(ith_loss)"
   ]
  },
  {
   "cell_type": "code",
   "execution_count": 11,
   "metadata": {},
   "outputs": [],
   "source": [
    "import matplotlib.pyplot as plt\n",
    "\n",
    "fig, ax = plt.subplots(figsize=(12, 8))\n",
    "\n",
    "for size in HIDDEN_LAYERS_SIZES:\n",
    "    ax.plot(plot_data[\"epoch\"], plot_data[size], label = f\"{size} Neurons\")\n",
    "\n",
    "ax.legend()\n",
    "ax.tick_params(axis='x', colors='white')\n",
    "ax.tick_params(axis='y', colors='white')\n",
    "ax.spines['left'].set_color('white')\n",
    "ax.spines['bottom'].set_color('white')\n",
    "ax.xaxis.label.set_color('white')\n",
    "ax.yaxis.label.set_color('white')\n",
    "ax.set(xlabel=\"Epoch\", ylabel=\"MSE\")\n",
    "\n",
    "plt.savefig(f\"assets/images/training.png\", transparent=True)\n",
    "plt.close()"
   ]
  }
 ],
 "metadata": {
  "kernelspec": {
   "display_name": "venv",
   "language": "python",
   "name": "python3"
  },
  "language_info": {
   "codemirror_mode": {
    "name": "ipython",
    "version": 3
   },
   "file_extension": ".py",
   "mimetype": "text/x-python",
   "name": "python",
   "nbconvert_exporter": "python",
   "pygments_lexer": "ipython3",
   "version": "3.11.3"
  }
 },
 "nbformat": 4,
 "nbformat_minor": 2
}
